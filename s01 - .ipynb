{
 "cells": [
  {
   "cell_type": "code",
   "execution_count": 7,
   "id": "f3fa9454-4ddb-4cd9-9f37-310f04adc7cc",
   "metadata": {},
   "outputs": [],
   "source": [
    "from tfx.orchestration.beam.beam_dag_runner import BeamDagRunner\n",
    "from tfx.orchestration import pipeline as tfx_pipeline\n",
    "from tfx.orchestration.metadata import sqlite_metadata_connection_config\n",
    "from tfx.components import CsvExampleGen, StatisticsGen\n",
    "import os\n",
    "import logging\n",
    "import apache_beam as beam\n",
    "from apache_beam.options.pipeline_options import PipelineOptions\n",
    "import tensorflow as tf\n",
    "import pyarrow as pa\n",
    "import pyarrow.dataset as ds\n",
    "import os, tempfile, pathlib\n",
    "os.environ[\"SEMI_PERSISTENT_DIRECTORY\"] = str(pathlib.Path(tempfile.gettempdir())/\"beam_scratch\")\n",
    "os.environ[\"TF_CPP_MIN_LOG_LEVEL\"] = \"2\"\n",
    "os.environ[\"CUDA_VISIBLE_DEVICES\"] = \"\"\n"
   ]
  },
  {
   "cell_type": "code",
   "execution_count": 9,
   "id": "d04f97b5-555d-48c1-beb0-16e5050274f7",
   "metadata": {},
   "outputs": [],
   "source": [
    "TFRECORD_DIR='./tfx/data/parquet_tfr/'\n",
    "\n",
    "example_gen = tfx.components.ImportExampleGen(input_base=TFRECORD_DIR)\n",
    "statistics_gen = tfx.components.StatisticsGen(examples=example_gen.outputs[\"examples\"], beam_pipeline_args=BEAM_ARGS)\n",
    "schema_gen = tfx.components.SchemaGen(statistics=statistics_gen.outputs[\"statistics\"], infer_feature_shape=True)\n"
   ]
  },
  {
   "cell_type": "code",
   "execution_count": null,
   "id": "fa7eae08-608f-447d-bd0d-1feb39cc7c36",
   "metadata": {},
   "outputs": [],
   "source": []
  }
 ],
 "metadata": {
  "kernelspec": {
   "display_name": "TFX Spark (py310)",
   "language": "python",
   "name": "tfx-spark-env"
  },
  "language_info": {
   "codemirror_mode": {
    "name": "ipython",
    "version": 3
   },
   "file_extension": ".py",
   "mimetype": "text/x-python",
   "name": "python",
   "nbconvert_exporter": "python",
   "pygments_lexer": "ipython3",
   "version": "3.10.18"
  }
 },
 "nbformat": 4,
 "nbformat_minor": 5
}
