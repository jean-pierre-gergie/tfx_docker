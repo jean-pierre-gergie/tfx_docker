{
 "cells": [
  {
   "cell_type": "code",
   "execution_count": 1,
   "id": "e04bb6eb-73a3-4720-9610-d8253441c721",
   "metadata": {},
   "outputs": [
    {
     "name": "stderr",
     "output_type": "stream",
     "text": [
      "2025-09-19 16:51:21.536358: I tensorflow/core/util/port.cc:113] oneDNN custom operations are on. You may see slightly different numerical results due to floating-point round-off errors from different computation orders. To turn them off, set the environment variable `TF_ENABLE_ONEDNN_OPTS=0`.\n",
      "2025-09-19 16:51:21.536861: I external/local_tsl/tsl/cuda/cudart_stub.cc:32] Could not find cuda drivers on your machine, GPU will not be used.\n",
      "2025-09-19 16:51:21.539169: I external/local_tsl/tsl/cuda/cudart_stub.cc:32] Could not find cuda drivers on your machine, GPU will not be used.\n",
      "2025-09-19 16:51:21.566589: I tensorflow/core/platform/cpu_feature_guard.cc:210] This TensorFlow binary is optimized to use available CPU instructions in performance-critical operations.\n",
      "To enable the following instructions: AVX2 AVX_VNNI FMA, in other operations, rebuild TensorFlow with the appropriate compiler flags.\n",
      "2025-09-19 16:51:22.119647: W tensorflow/compiler/tf2tensorrt/utils/py_utils.cc:38] TF-TRT Warning: Could not find TensorRT\n"
     ]
    },
    {
     "name": "stdout",
     "output_type": "stream",
     "text": [
      "Lib versions:\n",
      "Python: 3.10.18 (main, Sep  8 2025, 22:51:44) [GCC 12.2.0]\n",
      "TF: 2.16.1\n",
      "TFDV: 1.16.1\n",
      "tfx: 1.16.0\n",
      "sklearn: 1.5.1\n",
      "pandas: 1.5.3\n",
      "onnx: 1.17.0\n",
      "onnxruntime: 1.22.1\n"
     ]
    }
   ],
   "source": [
    "\n",
    "import os, glob, json, math, warnings\n",
    "import numpy as np\n",
    "import pandas as pd\n",
    "\n",
    "import tensorflow_data_validation as tfdv\n",
    "\n",
    "from sklearn.model_selection import train_test_split\n",
    "from sklearn.compose import ColumnTransformer\n",
    "from sklearn.preprocessing import OneHotEncoder, StandardScaler\n",
    "from sklearn.impute import SimpleImputer\n",
    "from sklearn.pipeline import Pipeline\n",
    "from sklearn.ensemble import RandomForestClassifier\n",
    "from sklearn.metrics import classification_report, accuracy_score, roc_auc_score\n",
    "\n",
    "from skl2onnx import convert_sklearn\n",
    "from skl2onnx.common.data_types import FloatTensorType, StringTensorType, Int64TensorType\n",
    "import onnxruntime as ort\n",
    "\n",
    "warnings.filterwarnings(\"ignore\")\n",
    "\n",
    "print(\"Lib versions:\")\n",
    "import sys, tensorflow as tf, sklearn, onnx, tfx\n",
    "print(\"Python:\", sys.version)\n",
    "print(\"TF:\", tf.__version__)\n",
    "print(\"TFDV:\", tfdv.__version__)\n",
    "print(\"tfx:\", tfx.__version__)\n",
    "print(\"sklearn:\", sklearn.__version__)\n",
    "print(\"pandas:\", pd.__version__)\n",
    "print(\"onnx:\", onnx.__version__)\n",
    "print(\"onnxruntime:\", ort.__version__)"
   ]
  },
  {
   "cell_type": "code",
   "execution_count": 2,
   "id": "f49ba684-f983-4146-897e-9c7c2eb1aac4",
   "metadata": {},
   "outputs": [
    {
     "name": "stdout",
     "output_type": "stream",
     "text": [
      "Found Parquet: /data/test_parquet_data.parquet\n"
     ]
    },
    {
     "data": {
      "text/html": [
       "<div>\n",
       "<style scoped>\n",
       "    .dataframe tbody tr th:only-of-type {\n",
       "        vertical-align: middle;\n",
       "    }\n",
       "\n",
       "    .dataframe tbody tr th {\n",
       "        vertical-align: top;\n",
       "    }\n",
       "\n",
       "    .dataframe thead th {\n",
       "        text-align: right;\n",
       "    }\n",
       "</style>\n",
       "<table border=\"1\" class=\"dataframe\">\n",
       "  <thead>\n",
       "    <tr style=\"text-align: right;\">\n",
       "      <th></th>\n",
       "      <th>step</th>\n",
       "      <th>type</th>\n",
       "      <th>amount</th>\n",
       "      <th>nameOrig</th>\n",
       "      <th>oldbalanceOrg</th>\n",
       "      <th>newbalanceOrig</th>\n",
       "      <th>nameDest</th>\n",
       "      <th>oldbalanceDest</th>\n",
       "      <th>newbalanceDest</th>\n",
       "      <th>isFraud</th>\n",
       "      <th>isFlaggedFraud</th>\n",
       "    </tr>\n",
       "  </thead>\n",
       "  <tbody>\n",
       "    <tr>\n",
       "      <th>0</th>\n",
       "      <td>1</td>\n",
       "      <td>PAYMENT</td>\n",
       "      <td>9839.64</td>\n",
       "      <td>C1231006815</td>\n",
       "      <td>170136.0</td>\n",
       "      <td>160296.36</td>\n",
       "      <td>M1979787155</td>\n",
       "      <td>0.0</td>\n",
       "      <td>0.0</td>\n",
       "      <td>0</td>\n",
       "      <td>0</td>\n",
       "    </tr>\n",
       "    <tr>\n",
       "      <th>1</th>\n",
       "      <td>1</td>\n",
       "      <td>PAYMENT</td>\n",
       "      <td>1864.28</td>\n",
       "      <td>C1666544295</td>\n",
       "      <td>21249.0</td>\n",
       "      <td>19384.72</td>\n",
       "      <td>M2044282225</td>\n",
       "      <td>0.0</td>\n",
       "      <td>0.0</td>\n",
       "      <td>0</td>\n",
       "      <td>0</td>\n",
       "    </tr>\n",
       "    <tr>\n",
       "      <th>2</th>\n",
       "      <td>1</td>\n",
       "      <td>TRANSFER</td>\n",
       "      <td>181.00</td>\n",
       "      <td>C1305486145</td>\n",
       "      <td>181.0</td>\n",
       "      <td>0.00</td>\n",
       "      <td>C553264065</td>\n",
       "      <td>0.0</td>\n",
       "      <td>0.0</td>\n",
       "      <td>1</td>\n",
       "      <td>0</td>\n",
       "    </tr>\n",
       "    <tr>\n",
       "      <th>3</th>\n",
       "      <td>1</td>\n",
       "      <td>CASH_OUT</td>\n",
       "      <td>181.00</td>\n",
       "      <td>C840083671</td>\n",
       "      <td>181.0</td>\n",
       "      <td>0.00</td>\n",
       "      <td>C38997010</td>\n",
       "      <td>21182.0</td>\n",
       "      <td>0.0</td>\n",
       "      <td>1</td>\n",
       "      <td>0</td>\n",
       "    </tr>\n",
       "    <tr>\n",
       "      <th>4</th>\n",
       "      <td>1</td>\n",
       "      <td>PAYMENT</td>\n",
       "      <td>11668.14</td>\n",
       "      <td>C2048537720</td>\n",
       "      <td>41554.0</td>\n",
       "      <td>29885.86</td>\n",
       "      <td>M1230701703</td>\n",
       "      <td>0.0</td>\n",
       "      <td>0.0</td>\n",
       "      <td>0</td>\n",
       "      <td>0</td>\n",
       "    </tr>\n",
       "  </tbody>\n",
       "</table>\n",
       "</div>"
      ],
      "text/plain": [
       "   step      type    amount     nameOrig  oldbalanceOrg  newbalanceOrig  \\\n",
       "0     1   PAYMENT   9839.64  C1231006815       170136.0       160296.36   \n",
       "1     1   PAYMENT   1864.28  C1666544295        21249.0        19384.72   \n",
       "2     1  TRANSFER    181.00  C1305486145          181.0            0.00   \n",
       "3     1  CASH_OUT    181.00   C840083671          181.0            0.00   \n",
       "4     1   PAYMENT  11668.14  C2048537720        41554.0        29885.86   \n",
       "\n",
       "      nameDest  oldbalanceDest  newbalanceDest  isFraud  isFlaggedFraud  \n",
       "0  M1979787155             0.0             0.0        0               0  \n",
       "1  M2044282225             0.0             0.0        0               0  \n",
       "2   C553264065             0.0             0.0        1               0  \n",
       "3    C38997010         21182.0             0.0        1               0  \n",
       "4  M1230701703             0.0             0.0        0               0  "
      ]
     },
     "execution_count": 2,
     "metadata": {},
     "output_type": "execute_result"
    }
   ],
   "source": [
    "DATA_DIR = \"/data\"\n",
    "PARQUET_GLOB = os.path.join(DATA_DIR, \"**\", \"*.parquet\")\n",
    "parquet_files = sorted(glob.glob(PARQUET_GLOB, recursive=True))\n",
    "\n",
    "if parquet_files:\n",
    "    data_path = parquet_files[0]\n",
    "    print(f\"Found Parquet: {data_path}\")\n",
    "    # For very large files, you can load a sample. Here we try to read everything; adjust if needed.\n",
    "    df = pd.read_parquet(data_path)\n",
    "else:\n",
    "    print(\"No Parquet found in /data; generating a synthetic demo dataset.\")\n",
    "    rng = np.random.default_rng(7)\n",
    "    n = 5000\n",
    "    df = pd.DataFrame({\n",
    "        \"amount\": rng.normal(100, 30, size=n).round(2),\n",
    "        \"tx_count_30d\": rng.integers(0, 50, size=n),\n",
    "        \"category\": rng.choice([\"grocery\", \"fuel\", \"online\", \"travel\"], size=n, p=[0.5, 0.2, 0.2, 0.1]),\n",
    "        \"is_fraud\": rng.choice([0,1], size=n, p=[0.92, 0.08])\n",
    "    })\n",
    "\n",
    "df.head(5)"
   ]
  },
  {
   "cell_type": "code",
   "execution_count": 4,
   "id": "b15a4cd7-115f-4a35-9041-10b163b69937",
   "metadata": {},
   "outputs": [],
   "source": [
    "target_col = \"isFraud\"\n",
    "feature_cols = [c for c in df.columns if c not in target_col]"
   ]
  },
  {
   "cell_type": "code",
   "execution_count": 5,
   "id": "a6575e0a-edb3-468c-b9a9-5b3b36cd33a1",
   "metadata": {},
   "outputs": [
    {
     "data": {
      "text/plain": [
       "['step',\n",
       " 'type',\n",
       " 'amount',\n",
       " 'nameOrig',\n",
       " 'oldbalanceOrg',\n",
       " 'newbalanceOrig',\n",
       " 'nameDest',\n",
       " 'oldbalanceDest',\n",
       " 'newbalanceDest',\n",
       " 'isFlaggedFraud']"
      ]
     },
     "execution_count": 5,
     "metadata": {},
     "output_type": "execute_result"
    }
   ],
   "source": [
    "feature_cols"
   ]
  },
  {
   "cell_type": "code",
   "execution_count": 6,
   "id": "709c0e7b-3735-4db4-ac09-03d16d668b82",
   "metadata": {},
   "outputs": [],
   "source": [
    "stats = tfdv.generate_statistics_from_dataframe(df)"
   ]
  },
  {
   "cell_type": "code",
   "execution_count": 7,
   "id": "06cc972f-e659-4543-80cb-931f08b9e575",
   "metadata": {},
   "outputs": [
    {
     "name": "stdout",
     "output_type": "stream",
     "text": [
      "Inferred schema with 11 features.\n"
     ]
    }
   ],
   "source": [
    "schema = tfdv.infer_schema(stats)\n",
    "print(\"Inferred schema with\", len(schema.feature), \"features.\")"
   ]
  },
  {
   "cell_type": "code",
   "execution_count": 14,
   "id": "c4eebf7f-9337-410e-a3de-e029f10f9c6f",
   "metadata": {
    "scrolled": true
   },
   "outputs": [
    {
     "data": {
      "text/html": [
       "<div>\n",
       "<style scoped>\n",
       "    .dataframe tbody tr th:only-of-type {\n",
       "        vertical-align: middle;\n",
       "    }\n",
       "\n",
       "    .dataframe tbody tr th {\n",
       "        vertical-align: top;\n",
       "    }\n",
       "\n",
       "    .dataframe thead th {\n",
       "        text-align: right;\n",
       "    }\n",
       "</style>\n",
       "<table border=\"1\" class=\"dataframe\">\n",
       "  <thead>\n",
       "    <tr style=\"text-align: right;\">\n",
       "      <th></th>\n",
       "      <th>Type</th>\n",
       "      <th>Presence</th>\n",
       "      <th>Valency</th>\n",
       "      <th>Domain</th>\n",
       "    </tr>\n",
       "    <tr>\n",
       "      <th>Feature name</th>\n",
       "      <th></th>\n",
       "      <th></th>\n",
       "      <th></th>\n",
       "      <th></th>\n",
       "    </tr>\n",
       "  </thead>\n",
       "  <tbody>\n",
       "    <tr>\n",
       "      <th>'step'</th>\n",
       "      <td>INT</td>\n",
       "      <td>required</td>\n",
       "      <td></td>\n",
       "      <td>-</td>\n",
       "    </tr>\n",
       "    <tr>\n",
       "      <th>'type'</th>\n",
       "      <td>STRING</td>\n",
       "      <td>required</td>\n",
       "      <td></td>\n",
       "      <td>'type'</td>\n",
       "    </tr>\n",
       "    <tr>\n",
       "      <th>'amount'</th>\n",
       "      <td>FLOAT</td>\n",
       "      <td>required</td>\n",
       "      <td></td>\n",
       "      <td>-</td>\n",
       "    </tr>\n",
       "    <tr>\n",
       "      <th>'nameOrig'</th>\n",
       "      <td>STRING</td>\n",
       "      <td>required</td>\n",
       "      <td></td>\n",
       "      <td>'nameOrig'</td>\n",
       "    </tr>\n",
       "    <tr>\n",
       "      <th>'oldbalanceOrg'</th>\n",
       "      <td>FLOAT</td>\n",
       "      <td>required</td>\n",
       "      <td></td>\n",
       "      <td>-</td>\n",
       "    </tr>\n",
       "    <tr>\n",
       "      <th>'newbalanceOrig'</th>\n",
       "      <td>FLOAT</td>\n",
       "      <td>required</td>\n",
       "      <td></td>\n",
       "      <td>-</td>\n",
       "    </tr>\n",
       "    <tr>\n",
       "      <th>'nameDest'</th>\n",
       "      <td>STRING</td>\n",
       "      <td>required</td>\n",
       "      <td></td>\n",
       "      <td>'nameDest'</td>\n",
       "    </tr>\n",
       "    <tr>\n",
       "      <th>'oldbalanceDest'</th>\n",
       "      <td>FLOAT</td>\n",
       "      <td>required</td>\n",
       "      <td></td>\n",
       "      <td>-</td>\n",
       "    </tr>\n",
       "    <tr>\n",
       "      <th>'newbalanceDest'</th>\n",
       "      <td>FLOAT</td>\n",
       "      <td>required</td>\n",
       "      <td></td>\n",
       "      <td>-</td>\n",
       "    </tr>\n",
       "    <tr>\n",
       "      <th>'isFraud'</th>\n",
       "      <td>INT</td>\n",
       "      <td>required</td>\n",
       "      <td></td>\n",
       "      <td>-</td>\n",
       "    </tr>\n",
       "    <tr>\n",
       "      <th>'isFlaggedFraud'</th>\n",
       "      <td>INT</td>\n",
       "      <td>required</td>\n",
       "      <td></td>\n",
       "      <td>-</td>\n",
       "    </tr>\n",
       "  </tbody>\n",
       "</table>\n",
       "</div>"
      ],
      "text/plain": [
       "                    Type  Presence Valency      Domain\n",
       "Feature name                                          \n",
       "'step'               INT  required                   -\n",
       "'type'            STRING  required              'type'\n",
       "'amount'           FLOAT  required                   -\n",
       "'nameOrig'        STRING  required          'nameOrig'\n",
       "'oldbalanceOrg'    FLOAT  required                   -\n",
       "'newbalanceOrig'   FLOAT  required                   -\n",
       "'nameDest'        STRING  required          'nameDest'\n",
       "'oldbalanceDest'   FLOAT  required                   -\n",
       "'newbalanceDest'   FLOAT  required                   -\n",
       "'isFraud'            INT  required                   -\n",
       "'isFlaggedFraud'     INT  required                   -"
      ]
     },
     "metadata": {},
     "output_type": "display_data"
    },
    {
     "data": {
      "text/html": [
       "<div>\n",
       "<style scoped>\n",
       "    .dataframe tbody tr th:only-of-type {\n",
       "        vertical-align: middle;\n",
       "    }\n",
       "\n",
       "    .dataframe tbody tr th {\n",
       "        vertical-align: top;\n",
       "    }\n",
       "\n",
       "    .dataframe thead th {\n",
       "        text-align: right;\n",
       "    }\n",
       "</style>\n",
       "<table border=\"1\" class=\"dataframe\">\n",
       "  <thead>\n",
       "    <tr style=\"text-align: right;\">\n",
       "      <th></th>\n",
       "      <th>Values</th>\n",
       "    </tr>\n",
       "    <tr>\n",
       "      <th>Domain</th>\n",
       "      <th></th>\n",
       "    </tr>\n",
       "  </thead>\n",
       "  <tbody>\n",
       "    <tr>\n",
       "      <th>'type'</th>\n",
       "      <td>'CASH_OUT', 'DEBIT', 'PAYMENT', 'TRANSFER'</td>\n",
       "    </tr>\n",
       "    <tr>\n",
       "      <th>'nameOrig'</th>\n",
       "      <td>'C1026483832', 'C1231006815', 'C1237762639', 'C1265012928', 'C1305486145', 'C154988899', 'C1648232591', 'C1666544295', 'C1670993182', 'C1716932897', 'C1900366749', 'C1912850431', 'C2033524545', 'C2048537720', 'C249177573', 'C712410124', 'C761750706', 'C840083671', 'C90045638', 'C905080434'</td>\n",
       "    </tr>\n",
       "    <tr>\n",
       "      <th>'nameDest'</th>\n",
       "      <td>'C1100439041', 'C195600860', 'C38997010', 'C476402209', 'C553264065', 'C997608398', 'M1176932104', 'M1230701703', 'M1635378213', 'M1731217984', 'M1877062907', 'M1979787155', 'M2044282225', 'M2096539129', 'M408069119', 'M473053293', 'M573487274', 'M633326333', 'M801569151', 'M972865270'</td>\n",
       "    </tr>\n",
       "  </tbody>\n",
       "</table>\n",
       "</div>"
      ],
      "text/plain": [
       "                                                                                                                                                                                                                                                                                                        Values\n",
       "Domain                                                                                                                                                                                                                                                                                                        \n",
       "'type'                                                                                                                                                                                                                                                              'CASH_OUT', 'DEBIT', 'PAYMENT', 'TRANSFER'\n",
       "'nameOrig'  'C1026483832', 'C1231006815', 'C1237762639', 'C1265012928', 'C1305486145', 'C154988899', 'C1648232591', 'C1666544295', 'C1670993182', 'C1716932897', 'C1900366749', 'C1912850431', 'C2033524545', 'C2048537720', 'C249177573', 'C712410124', 'C761750706', 'C840083671', 'C90045638', 'C905080434'\n",
       "'nameDest'      'C1100439041', 'C195600860', 'C38997010', 'C476402209', 'C553264065', 'C997608398', 'M1176932104', 'M1230701703', 'M1635378213', 'M1731217984', 'M1877062907', 'M1979787155', 'M2044282225', 'M2096539129', 'M408069119', 'M473053293', 'M573487274', 'M633326333', 'M801569151', 'M972865270'"
      ]
     },
     "metadata": {},
     "output_type": "display_data"
    }
   ],
   "source": [
    "tfdv.display_schema(schema)"
   ]
  },
  {
   "cell_type": "code",
   "execution_count": 9,
   "id": "e6fbcab9-4ad9-419a-b9ed-86c912a99c7b",
   "metadata": {},
   "outputs": [
    {
     "name": "stdout",
     "output_type": "stream",
     "text": [
      "Anomalies found: KeysView({})\n"
     ]
    }
   ],
   "source": [
    "anomalies = tfdv.validate_statistics(statistics=stats, schema=schema)\n",
    "print(\"Anomalies found:\", anomalies.anomaly_info.keys())"
   ]
  },
  {
   "cell_type": "code",
   "execution_count": 13,
   "id": "66a83433-c805-43f1-a44a-7722d9c2854f",
   "metadata": {},
   "outputs": [
    {
     "data": {
      "text/html": [
       "<h4 style=\"color:green;\">No anomalies found.</h4>"
      ],
      "text/plain": [
       "<IPython.core.display.HTML object>"
      ]
     },
     "metadata": {},
     "output_type": "display_data"
    }
   ],
   "source": [
    "tfdv.display_anomalies(anomalies)\n"
   ]
  },
  {
   "cell_type": "code",
   "execution_count": 10,
   "id": "52d3710b-a741-4fa4-b064-8093d9c9dd82",
   "metadata": {},
   "outputs": [
    {
     "data": {
      "text/html": [
       "<iframe id='facets-iframe' width=\"100%\" height=\"500px\"></iframe>\n",
       "        <script>\n",
       "        facets_iframe = document.getElementById('facets-iframe');\n",
       "        facets_html = '<script src=\"https://cdnjs.cloudflare.com/ajax/libs/webcomponentsjs/1.3.3/webcomponents-lite.js\"><\\/script><link rel=\"import\" href=\"https://raw.githubusercontent.com/PAIR-code/facets/master/facets-dist/facets-jupyter.html\"><facets-overview proto-input=\"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\"></facets-overview>';\n",
       "        facets_iframe.srcdoc = facets_html;\n",
       "         facets_iframe.id = \"\";\n",
       "         setTimeout(() => {\n",
       "           facets_iframe.setAttribute('height', facets_iframe.contentWindow.document.body.offsetHeight + 'px')\n",
       "         }, 1500)\n",
       "         </script>"
      ],
      "text/plain": [
       "<IPython.core.display.HTML object>"
      ]
     },
     "metadata": {},
     "output_type": "display_data"
    }
   ],
   "source": [
    "try:\n",
    "    tfdv.visualize_statistics(stats)\n",
    "    if len(anomalies.anomaly_info) > 0:\n",
    "        tfdv.display_anomalies(anomalies)\n",
    "except Exception as e:\n",
    "    print(\"Visualization skipped:\", e)"
   ]
  },
  {
   "cell_type": "code",
   "execution_count": 11,
   "id": "38724733-7b42-445e-b3bb-64f4a0d0bcac",
   "metadata": {},
   "outputs": [
    {
     "name": "stdout",
     "output_type": "stream",
     "text": [
      "Schema saved to /metadata/schema.pbtxt\n"
     ]
    }
   ],
   "source": [
    "# Persist schema for future runs\n",
    "os.makedirs(\"/metadata\", exist_ok=True)\n",
    "schema_path = \"/metadata/schema.pbtxt\"\n",
    "with open(schema_path, \"w\") as f:\n",
    "    f.write(str(schema))\n",
    "print(\"Schema saved to\", schema_path)"
   ]
  },
  {
   "cell_type": "code",
   "execution_count": 12,
   "id": "53efa2f6-8aa2-411b-abc8-9f2a86fbe22e",
   "metadata": {},
   "outputs": [
    {
     "ename": "NameError",
     "evalue": "name 'numeric_cols' is not defined",
     "output_type": "error",
     "traceback": [
      "\u001b[0;31m---------------------------------------------------------------------------\u001b[0m",
      "\u001b[0;31mNameError\u001b[0m                                 Traceback (most recent call last)",
      "\u001b[0;32m/tmp/ipykernel_38/347175659.py\u001b[0m in \u001b[0;36m<cell line: 19>\u001b[0;34m()\u001b[0m\n\u001b[1;32m     19\u001b[0m preprocess = ColumnTransformer(\n\u001b[1;32m     20\u001b[0m     transformers=[\n\u001b[0;32m---> 21\u001b[0;31m         \u001b[0;34m(\u001b[0m\u001b[0;34m\"num\"\u001b[0m\u001b[0;34m,\u001b[0m \u001b[0mnumeric_transformer\u001b[0m\u001b[0;34m,\u001b[0m \u001b[0mnumeric_cols\u001b[0m\u001b[0;34m)\u001b[0m\u001b[0;34m,\u001b[0m\u001b[0;34m\u001b[0m\u001b[0;34m\u001b[0m\u001b[0m\n\u001b[0m\u001b[1;32m     22\u001b[0m         \u001b[0;34m(\u001b[0m\u001b[0;34m\"cat\"\u001b[0m\u001b[0;34m,\u001b[0m \u001b[0mcategorical_transformer\u001b[0m\u001b[0;34m,\u001b[0m \u001b[0mcategorical_cols\u001b[0m\u001b[0;34m)\u001b[0m\u001b[0;34m\u001b[0m\u001b[0;34m\u001b[0m\u001b[0m\n\u001b[1;32m     23\u001b[0m     ],\n",
      "\u001b[0;31mNameError\u001b[0m: name 'numeric_cols' is not defined"
     ]
    }
   ],
   "source": [
    "X = df[feature_cols].copy()\n",
    "y = df[target_col].astype(int)\n",
    "\n",
    "X_train, X_test, y_train, y_test = train_test_split(\n",
    "    X, y, test_size=0.2, random_state=42, stratify=y if y.nunique()==2 else None\n",
    ")\n",
    "\n",
    "# Preprocess: impute missing + scale numerics; impute + onehot categoricals\n",
    "numeric_transformer = Pipeline(steps=[\n",
    "    (\"imputer\", SimpleImputer(strategy=\"median\")),\n",
    "    (\"scaler\", StandardScaler())\n",
    "])\n",
    "\n",
    "categorical_transformer = Pipeline(steps=[\n",
    "    (\"imputer\", SimpleImputer(strategy=\"most_frequent\")),\n",
    "    (\"onehot\", OneHotEncoder(handle_unknown=\"ignore\", sparse_output=False))\n",
    "])\n",
    "\n",
    "preprocess = ColumnTransformer(\n",
    "    transformers=[\n",
    "        (\"num\", numeric_transformer, numeric_cols),\n",
    "        (\"cat\", categorical_transformer, categorical_cols)\n",
    "    ],\n",
    "    remainder=\"drop\"\n",
    ")\n",
    "\n",
    "clf = RandomForestClassifier(\n",
    "    n_estimators=200,\n",
    "    max_depth=None,\n",
    "    n_jobs=-1,\n",
    "    random_state=42\n",
    ")\n",
    "\n",
    "model = Pipeline(steps=[(\"preprocess\", preprocess), (\"rf\", clf)])\n",
    "\n",
    "%time model.fit(X_train, y_train)\n",
    "\n",
    "y_pred = model.predict(X_test)\n",
    "y_proba = None\n",
    "try:\n",
    "    y_proba = model.predict_proba(X_test)[:,1]\n",
    "except Exception:\n",
    "    pass\n",
    "\n",
    "print(\"Accuracy:\", accuracy_score(y_test, y_pred))\n",
    "if y_proba is not None and y.nunique()==2:\n",
    "    try:\n",
    "        print(\"ROC AUC:\", roc_auc_score(y_test, y_proba))\n",
    "    except Exception as e:\n",
    "        print(\"ROC AUC unavailable:\", e)\n",
    "\n",
    "print(\"\\nClassification report:\\n\", classification_report(y_test, y_pred))"
   ]
  },
  {
   "cell_type": "code",
   "execution_count": null,
   "id": "845c16e9-fb5e-43f1-a625-b4275cce8fe3",
   "metadata": {},
   "outputs": [],
   "source": [
    "# Build ONNX input schema (initial_types) based on feature dtypes\n",
    "initial_types = []\n",
    "for c in numeric_cols:\n",
    "    initial_types.append((c, FloatTensorType([None, 1])))\n",
    "for c in categorical_cols:\n",
    "    # Use String for non-numeric; if integers with small cardinality are categorical, they were treated above\n",
    "    if pd.api.types.is_integer_dtype(df[c]):\n",
    "        initial_types.append((c, Int64TensorType([None, 1])))\n",
    "    else:\n",
    "        initial_types.append((c, StringTensorType([None, 1])))\n",
    "\n",
    "onnx_model = convert_sklearn(model, initial_types=initial_types, target_opset=16)\n",
    "\n",
    "os.makedirs(\"/artifacts/onnx\", exist_ok=True)\n",
    "onnx_path = \"/artifacts/onnx/random_forest_pipeline.onnx\"\n",
    "with open(onnx_path, \"wb\") as f:\n",
    "    f.write(onnx_model.SerializeToString())\n",
    "\n",
    "print(\"ONNX model saved to:\", onnx_path)\n",
    "\n",
    "# Quick sanity-check with onnxruntime\n",
    "sess = ort.InferenceSession(onnx_path, providers=[\"CPUExecutionProvider\"])\n",
    "\n",
    "# Prepare a small batch from X_test in the same per-column dict format\n",
    "def to_onnx_inputs(df_batch):\n",
    "    feed = {}\n",
    "    for c in numeric_cols:\n",
    "        feed[c] = df_batch[[c]].astype(np.float32).values\n",
    "    for c in categorical_cols:\n",
    "        if pd.api.types.is_integer_dtype(df_batch[c]):\n",
    "            feed[c] = df_batch[[c]].astype(np.int64).values\n",
    "        else:\n",
    "            # onnxruntime expects bytes for string tensor\n",
    "            feed[c] = df_batch[[c]].astype(str).values\n",
    "    return feed\n",
    "\n",
    "sample = X_test.head(5).copy()\n",
    "inputs = to_onnx_inputs(sample)\n",
    "output_names = [o.name for o in sess.get_outputs()]\n",
    "preds = sess.run(output_names, inputs)\n",
    "\n",
    "print(\"ONNX outputs:\", {name: np.array(arr).shape for name, arr in zip(output_names, preds)})"
   ]
  },
  {
   "cell_type": "code",
   "execution_count": null,
   "id": "81aefdc2-f784-47fa-9d08-e50b7dd04a1e",
   "metadata": {},
   "outputs": [],
   "source": []
  }
 ],
 "metadata": {
  "kernelspec": {
   "display_name": "Python 3 (ipykernel)",
   "language": "python",
   "name": "python3"
  },
  "language_info": {
   "codemirror_mode": {
    "name": "ipython",
    "version": 3
   },
   "file_extension": ".py",
   "mimetype": "text/x-python",
   "name": "python",
   "nbconvert_exporter": "python",
   "pygments_lexer": "ipython3",
   "version": "3.10.18"
  }
 },
 "nbformat": 4,
 "nbformat_minor": 5
}
